{
 "cells": [
  {
   "cell_type": "code",
   "execution_count": 3,
   "metadata": {},
   "outputs": [
    {
     "data": {
      "image/jpeg": "[encoded data removed]",
      "image/png": "[encoded data removed]",
      "text/plain": [
       "<PIL.Image.Image image mode=L size=160x160>"
      ]
     },
     "metadata": {},
     "output_type": "display_data"
    }
   ],
   "source": [
    "import random\n",
    "import torch\n",
    "import torchvision as tv\n",
    "\n",
    "grid=torch.rand((160, 160))\n",
    "grid\n",
    "\n",
    "tensorToImageTransform=tv.transforms.ToPILImage()\n",
    "\n",
    "def corePhase(grid, prob=0.05):\n",
    "    return (grid>prob).float()\n",
    "\n",
    "grid=corePhase(grid, 0.001)\n",
    "\n",
    "tensorToImageTransform(grid)\n",
    "def growthPhase(grid, prob, endingWt):\n",
    "    idxs=torch.nonzero(grid==0)\n",
    "    if len(idxs)/(grid.shape[0]*grid.shape[1])>endingWt:\n",
    "        return False\n",
    "    dirs=[[0,1],[0,-1],[1,1],[1,-1],[1,0],[-1,1],[-1,-1],[-1,0]]\n",
    "    for [i,j] in idxs:\n",
    "        for [x,y] in dirs:\n",
    "            if  max(1,(x*y!=0)*4)*random.random()<prob and 0<=i+x<grid.shape[0] and 0<=j+y<grid.shape[1]:\n",
    "                grid[i+x, j+y]=0\n",
    "    return True\n",
    "i=0\n",
    "while growthPhase(grid, 0.075, 0.75):\n",
    "    i+=1\n",
    "display(tensorToImageTransform(grid))"
   ]
  },
  {
   "cell_type": "code",
   "execution_count": 12,
   "metadata": {},
   "outputs": [
    {
     "data": {
      "text/plain": [
       "(19227, 6373, 0.7510546875)"
      ]
     },
     "execution_count": 12,
     "metadata": {},
     "output_type": "execute_result"
    }
   ],
   "source": [
    "egNodes=len(torch.nonzero(grid==0))\n",
    "parNodes=len(torch.nonzero(grid==1))\n",
    "parDensity=914\n",
    "satEgDensity=807.51\n",
    "egVolPercent=egNodes/(egNodes+parNodes)\n",
    "egNodes, parNodes, egVolPercent"
   ]
  },
  {
   "cell_type": "code",
   "execution_count": 14,
   "metadata": {},
   "outputs": [
    {
     "data": {
      "text/plain": [
       "(15525994.77, 5824922)"
      ]
     },
     "execution_count": 14,
     "metadata": {},
     "output_type": "execute_result"
    }
   ],
   "source": [
    "egWeight=egNodes*satEgDensity\n",
    "parWeight=parNodes*parDensity\n",
    "egWeight, parWeight"
   ]
  },
  {
   "cell_type": "code",
   "execution_count": 15,
   "metadata": {},
   "outputs": [
    {
     "data": {
      "text/plain": [
       "0.7271816445753491"
      ]
     },
     "execution_count": 15,
     "metadata": {},
     "output_type": "execute_result"
    }
   ],
   "source": [
    "egWeightFraction=egWeight/(parWeight+egWeight)\n",
    "egWeightFraction"
   ]
  },
  {
   "cell_type": "code",
   "execution_count": null,
   "metadata": {},
   "outputs": [],
   "source": []
  }
 ],
 "metadata": {
  "kernelspec": {
   "display_name": "venv",
   "language": "python",
   "name": "python3"
  },
  "language_info": {
   "codemirror_mode": {
    "name": "ipython",
    "version": 3
   },
   "file_extension": ".py",
   "mimetype": "text/x-python",
   "name": "python",
   "nbconvert_exporter": "python",
   "pygments_lexer": "ipython3",
   "version": "3.12.4"
  }
 },
 "nbformat": 4,
 "nbformat_minor": 2
}
