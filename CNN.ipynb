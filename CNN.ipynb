{
 "cells": [
  {
   "cell_type": "code",
   "execution_count": 49,
   "metadata": {},
   "outputs": [],
   "source": [
    "import torch\n",
    "import torchvision as tv\n",
    "import torchvision.transforms as transforms\n",
    "from torch.utils.data import DataLoader\n",
    "from torch.utils.data import Dataset\n",
    "import torch.nn as nn\n",
    "import os\n",
    "import csv\n",
    "from PIL import Image"
   ]
  },
  {
   "cell_type": "code",
   "execution_count": 67,
   "metadata": {},
   "outputs": [],
   "source": [
    "transform=transforms.Compose([\n",
    "    transforms.Resize((160, 160)),\n",
    "    transforms.ToTensor(),\n",
    "    transforms.Grayscale(num_output_channels=1)\n",
    "])"
   ]
  },
  {
   "cell_type": "code",
   "execution_count": 68,
   "metadata": {},
   "outputs": [],
   "source": [
    "class SampleDataset(Dataset):\n",
    "    def __init__(self, image_dir, conductivities, transform=None):\n",
    "        self.conds=conductivities\n",
    "        self.samples=[]\n",
    "        for filename in os.listdir(image_dir):\n",
    "            self.samples.append(transform(Image.open(image_dir+filename)))\n",
    "        self.samples=torch.stack(tensors=self.samples)\n",
    "    \n",
    "    def __len__(self):\n",
    "        return len(self.samples)\n",
    "    \n",
    "    def __getitem__(self, index):\n",
    "        return self.samples[index], self.conds[index]\n",
    "    \n",
    "    def __to__(self, device):\n",
    "        self.samples=self.samples.to(device)\n",
    "        self.conds=self.conds.to(device)"
   ]
  },
  {
   "cell_type": "code",
   "execution_count": 69,
   "metadata": {},
   "outputs": [
    {
     "data": {
      "text/plain": [
       "tensor([1.0010, 1.0042, 1.0047,  ..., 1.5074, 1.5077, 1.5078])"
      ]
     },
     "execution_count": 69,
     "metadata": {},
     "output_type": "execute_result"
    }
   ],
   "source": [
    "with open('./data/data.csv') as f:\n",
    "    reader=csv.reader(f)\n",
    "    d=list(reader)\n",
    "conductivities=torch.tensor(data=[float(x[2]) for x in d[1:]], dtype=torch.float32)\n",
    "conductivities"
   ]
  },
  {
   "cell_type": "code",
   "execution_count": 70,
   "metadata": {},
   "outputs": [],
   "source": [
    "dataset=SampleDataset(image_dir='./data/samples/', conductivities=conductivities, transform=transform)"
   ]
  },
  {
   "cell_type": "code",
   "execution_count": 71,
   "metadata": {},
   "outputs": [
    {
     "data": {
      "image/jpeg": "[encoded data removed]",
      "image/png": "[encoded data removed]",
      "text/plain": [
       "<PIL.Image.Image image mode=L size=160x160>"
      ]
     },
     "execution_count": 71,
     "metadata": {},
     "output_type": "execute_result"
    }
   ],
   "source": [
    "tensorToImageTransform=tv.transforms.ToPILImage()\n",
    "tensorToImageTransform(dataset[400][0])"
   ]
  },
  {
   "cell_type": "code",
   "execution_count": 107,
   "metadata": {},
   "outputs": [],
   "source": [
    "class CNN(nn.Module):\n",
    "    def __init__(self, in_channels, num_filters, image_size):\n",
    "        super(CNN, self).__init__()\n",
    "\n",
    "        #calculating image resolution as we progress through model\n",
    "        image_size_1=(image_size-8+1)//2\n",
    "        image_size_2=(image_size_1-4+1)//2\n",
    "        print(image_size_2)\n",
    "        self.conv=torch.nn.Sequential(\n",
    "            nn.Conv2d(in_channels=in_channels, out_channels=num_filters, kernel_size=(8, 8), stride=1),\n",
    "            nn.MaxPool2d(kernel_size=(2, 2)),\n",
    "            nn.ReLU(inplace=True),\n",
    "            nn.Conv2d(in_channels=num_filters, out_channels=num_filters*2, kernel_size=(4, 4), stride=1),\n",
    "            nn.MaxPool2d(kernel_size=(2, 2)),\n",
    "            nn.ReLU(inplace=True),\n",
    "            nn.Flatten(),\n",
    "            nn.Linear(in_features=image_size_2*image_size_2*num_filters*2, out_features=150),\n",
    "            nn.ReLU(inplace=True),\n",
    "            nn.Linear(in_features=150, out_features=84),\n",
    "            nn.ReLU(inplace=True),\n",
    "            nn.Linear(in_features=84, out_features=1)\n",
    "        )\n",
    "\n",
    "    def forward(self, x):\n",
    "        return self.conv(x)"
   ]
  },
  {
   "cell_type": "code",
   "execution_count": 109,
   "metadata": {},
   "outputs": [
    {
     "name": "stdout",
     "output_type": "stream",
     "text": [
      "36\n"
     ]
    },
    {
     "data": {
      "text/plain": [
       "tensor([[-0.0770]], grad_fn=<AddmmBackward0>)"
      ]
     },
     "execution_count": 109,
     "metadata": {},
     "output_type": "execute_result"
    }
   ],
   "source": [
    "model=CNN(1, 32, 160)\n",
    "model(dataset[400][0].view(1, 1, 160, 160))"
   ]
  },
  {
   "cell_type": "code",
   "execution_count": null,
   "metadata": {},
   "outputs": [],
   "source": []
  }
 ],
 "metadata": {
  "kernelspec": {
   "display_name": "venv",
   "language": "python",
   "name": "python3"
  },
  "language_info": {
   "codemirror_mode": {
    "name": "ipython",
    "version": 3
   },
   "file_extension": ".py",
   "mimetype": "text/x-python",
   "name": "python",
   "nbconvert_exporter": "python",
   "pygments_lexer": "ipython3",
   "version": "3.12.4"
  }
 },
 "nbformat": 4,
 "nbformat_minor": 2
}
